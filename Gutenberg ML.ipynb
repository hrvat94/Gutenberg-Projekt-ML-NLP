{
 "cells": [
  {
   "cell_type": "code",
   "execution_count": 1,
   "id": "b6d6fcaa",
   "metadata": {},
   "outputs": [],
   "source": [
    "import streamlit as st\n",
    "import pandas as pd\n",
    "\n",
    "from sklearn.feature_extraction.text import CountVectorizer\n",
    "from sklearn.model_selection import train_test_split\n",
    "from sklearn.naive_bayes import MultinomialNB"
   ]
  },
  {
   "cell_type": "code",
   "execution_count": 2,
   "id": "c8824484",
   "metadata": {},
   "outputs": [],
   "source": [
    "def analyze(data):\n",
    "    df = pd.DataFrame()\n",
    "    \n",
    "    for i in data.values():\n",
    "        df = pd.concat([df, i[\"data\"]], ignore_index = True)\n",
    "    \n",
    "    df = df.dropna()\n",
    "    \n",
    "    vect = CountVectorizer()\n",
    "    \n",
    "    wordsCountArray = vect.fit_transform(df[\"Satz\"])\n",
    "    \n",
    "    X_train, X_test, y_train, y_test = train_test_split(wordsCountArray, df[\"Autor\"], test_size=0.2, random_state=0)\n",
    "    \n",
    "    model = MultinomialNB()\n",
    "    \n",
    "    model.fit(X_train, y_train)\n",
    "    \n",
    "    autoren = data.keys()\n",
    "    \n",
    "    s = f\"Modell trainiert für Autoren: \\n\\n\"\n",
    "    \n",
    "    for i in autoren:\n",
    "        s += f\"\\t{i}\\n\"\n",
    "        \n",
    "    s += f\"Mit {X_train.shape[0]} Sätzen.\\n\\n\"\n",
    "    \n",
    "    s += f\"Modelgenauigkeit: {model.score(X_test, y_test)*100:.2f}%\"\n",
    "    \n",
    "    st.markdown(s)\n",
    "    \n",
    "    return model, vect\n",
    "    \n",
    "    "
   ]
  },
  {
   "cell_type": "code",
   "execution_count": null,
   "id": "5e5dfa32",
   "metadata": {},
   "outputs": [],
   "source": []
  },
  {
   "cell_type": "code",
   "execution_count": null,
   "id": "baee1567",
   "metadata": {},
   "outputs": [],
   "source": []
  },
  {
   "cell_type": "code",
   "execution_count": null,
   "id": "011cda66",
   "metadata": {},
   "outputs": [],
   "source": []
  },
  {
   "cell_type": "code",
   "execution_count": null,
   "id": "8a2d09f8",
   "metadata": {},
   "outputs": [],
   "source": []
  },
  {
   "cell_type": "code",
   "execution_count": null,
   "id": "2c85f494",
   "metadata": {},
   "outputs": [],
   "source": []
  },
  {
   "cell_type": "code",
   "execution_count": null,
   "id": "12a02472",
   "metadata": {},
   "outputs": [],
   "source": []
  },
  {
   "cell_type": "code",
   "execution_count": null,
   "id": "00dcd196",
   "metadata": {},
   "outputs": [],
   "source": []
  },
  {
   "cell_type": "code",
   "execution_count": null,
   "id": "2e3f1b00",
   "metadata": {},
   "outputs": [],
   "source": []
  },
  {
   "cell_type": "code",
   "execution_count": null,
   "id": "6a7c5f86",
   "metadata": {},
   "outputs": [],
   "source": []
  },
  {
   "cell_type": "code",
   "execution_count": null,
   "id": "bb8aa2ae",
   "metadata": {},
   "outputs": [],
   "source": []
  },
  {
   "cell_type": "code",
   "execution_count": null,
   "id": "2dd33069",
   "metadata": {},
   "outputs": [],
   "source": []
  }
 ],
 "metadata": {
  "kernelspec": {
   "display_name": "Python 3 (ipykernel)",
   "language": "python",
   "name": "python3"
  },
  "language_info": {
   "codemirror_mode": {
    "name": "ipython",
    "version": 3
   },
   "file_extension": ".py",
   "mimetype": "text/x-python",
   "name": "python",
   "nbconvert_exporter": "python",
   "pygments_lexer": "ipython3",
   "version": "3.11.5"
  }
 },
 "nbformat": 4,
 "nbformat_minor": 5
}
