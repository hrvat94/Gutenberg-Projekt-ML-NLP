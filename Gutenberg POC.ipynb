{
 "cells": [
  {
   "cell_type": "code",
   "execution_count": 1,
   "id": "da3cfd6d",
   "metadata": {},
   "outputs": [],
   "source": [
    "import streamlit as st\n",
    "import pandas as pd\n",
    "import requests\n",
    "\n",
    "from bs4 import BeautifulSoup\n",
    "from bs4.dammit import EncodingDetector"
   ]
  },
  {
   "cell_type": "code",
   "execution_count": 2,
   "id": "bb987f70",
   "metadata": {},
   "outputs": [],
   "source": [
    "BASE_URL = \"https://www.projekt-gutenberg.org/\""
   ]
  },
  {
   "cell_type": "code",
   "execution_count": 3,
   "id": "00ece26f",
   "metadata": {},
   "outputs": [
    {
     "data": {
      "text/plain": [
       "<function streamlit.runtime.legacy_caching.caching.cache.<locals>.wrapper(f: ~F) -> ~F>"
      ]
     },
     "execution_count": 3,
     "metadata": {},
     "output_type": "execute_result"
    }
   ],
   "source": [
    "st.cache(suppress_st_warning = True)"
   ]
  },
  {
   "cell_type": "code",
   "execution_count": 82,
   "id": "7a733e78",
   "metadata": {},
   "outputs": [],
   "source": [
    "def scrape_author(author):\n",
    "    url = f\"{BASE_URL}/autoren/namen/{author.lower()}.html\"\n",
    "    print(f\"Scrape Author [{author}] {url}\")\n",
    "    \n",
    "    res = requests.get(url)\n",
    "    \n",
    "    # AUthor nicht gefunden\n",
    "    if res.status_code != 200:\n",
    "        print(f\"Author {author} wurde nicht gefunden!\")\n",
    "        return None\n",
    "    \n",
    "    try:\n",
    "        print(f\"Author {author} wurde gefunden!\")\n",
    "        author_site = BeautifulSoup(res.content, \"lxml\", from_encoding = EncodingDetector.find_declared_encoding(res.content, is_html = True))\n",
    "    except Exception:\n",
    "        print(\"Error während dem Decoden\")\n",
    "        return None\n",
    "    \n",
    "    # Wörterbuch / Dict mit allen Informationen über unseren Autor\n",
    "    infos = {\"data\"     : None,\n",
    "             \"books\"    : _find_books(author_site),\n",
    "             \"info\"     : _find_info(author_site),\n",
    "             \"image_url\": _find_image(author_site)\n",
    "            }\n",
    "    \n",
    "    df_all = pd.DataFrame()\n",
    "    \n",
    "    for title, url in infos[\"books\"]:\n",
    "        st.markdown(f\"[{title}]({url})\")\n",
    "        print(f\"Scrape Buch '{title}' [{url}]\")\n",
    "        \n",
    "        df_temp = _scrape_book(url)\n",
    "        df_all = pd.concat([df_all, df_temp], ignore_index = True)\n",
    "        \n",
    "    df_all[\"Autor\"] = author.upper()\n",
    "    \n",
    "    infos[\"data\"] = df_all\n",
    "    \n",
    "    print(f\"Gefundene Sätze: {df_all.shape}\")\n",
    "    \n",
    "    return infos\n",
    "        "
   ]
  },
  {
   "cell_type": "code",
   "execution_count": 48,
   "id": "1b353d45",
   "metadata": {},
   "outputs": [
    {
     "name": "stdout",
     "output_type": "stream",
     "text": [
      "Scrape Author [Kafka] https://www.projekt-gutenberg.org//autoren/namen/kafka.html\n",
      "Author Kafka wurde gefunden!\n"
     ]
    }
   ],
   "source": [
    "scrape_author(\"Kafka\")"
   ]
  },
  {
   "cell_type": "code",
   "execution_count": 6,
   "id": "7689aee1",
   "metadata": {},
   "outputs": [],
   "source": [
    "def _find_books(books):\n",
    "    tag = books.find(\"div\", {\"class\": \"archived\"})\n",
    "    if tag == None:\n",
    "        return []\n",
    "    \n",
    "    book_url = []\n",
    "    \n",
    "    for l in tag.find_all(\"li\"):\n",
    "        tag = l.find(\"a\", href = True)\n",
    "        book_title = tag.string\n",
    "\n",
    "        url = f\"{BASE_URL}/{tag['href'][6:]}\"\n",
    "        url = url[:url.rfind(\"/\")]\n",
    "        \n",
    "        book_url.append((book_title, url))\n",
    "        \n",
    "    return book_url "
   ]
  },
  {
   "cell_type": "code",
   "execution_count": 36,
   "id": "4096cadc",
   "metadata": {},
   "outputs": [],
   "source": [
    "def _find_info(author_site):\n",
    "    try:\n",
    "        return author_site.find_all(\"p\")[1].text\n",
    "    except:\n",
    "        return None\n",
    "    "
   ]
  },
  {
   "cell_type": "code",
   "execution_count": 47,
   "id": "b15f21ea",
   "metadata": {},
   "outputs": [],
   "source": [
    "def _find_image(author_site):\n",
    "    #image = author_site.find(\"img\", {\"class\": \"autpic\"})\n",
    "    try:\n",
    "        return f\"{BASE_URL}/autoren/{author_site.find('img', src = True, title = True)['src'][3:]}\"\n",
    "    except:\n",
    "        return None\n",
    "    "
   ]
  },
  {
   "cell_type": "code",
   "execution_count": 78,
   "id": "533e9926",
   "metadata": {},
   "outputs": [],
   "source": [
    "def _scrape_book(url):\n",
    "    res = requests.get(url)\n",
    "    \n",
    "    book_site = BeautifulSoup(res.content, \"lxml\", from_encoding = EncodingDetector.find_declared_encoding(res.content, is_html = True))\n",
    "    \n",
    "    subchapters = book_site.find_all(\"li\")\n",
    "    \n",
    "    subchapters_links = []\n",
    "    \n",
    "    for sub in subchapters:\n",
    "        link = sub.find(\"a\", href = True)\n",
    "        subchapters_links.append(url + link[\"href\"])\n",
    "    \n",
    "    df = pd.DataFrame(columns = [\"Satz\"])\n",
    "    \n",
    "    progressbar = st.progress(0)\n",
    "    \n",
    "    for index, temp_url in enumerate(subchapters_links):\n",
    "        progressbar.progress((index+1)/len(subchapters_links))\n",
    "        \n",
    "        res = requests.get(temp_url)     \n",
    "        books = BeautifulSoup(res.content, \"lxml\", from_encoding = EncodingDetector.find_declared_encoding(res.content, is_html = True))\n",
    "\n",
    "        data = _find_text(books)\n",
    "        \n",
    "        for satz in data.split(\".\"):\n",
    "            df.loc[len(df)] = satz\n",
    "    \n",
    "    progressbar.empty()\n",
    "    \n",
    "    df[\"Satz\"] = df[\"Satz\"].map(_correction).dropna()\n",
    "    \n",
    "    return df"
   ]
  },
  {
   "cell_type": "code",
   "execution_count": 79,
   "id": "00d6067c",
   "metadata": {},
   "outputs": [],
   "source": [
    "def _correction(string):\n",
    "    if len(string) < 4:\n",
    "        return None\n",
    "    else:\n",
    "        return string"
   ]
  },
  {
   "cell_type": "code",
   "execution_count": 80,
   "id": "a0285dec",
   "metadata": {},
   "outputs": [],
   "source": [
    "def _find_text(books):\n",
    "    text = \"\"\n",
    "    \n",
    "    for paragraph in books.find_all(\"p\"):\n",
    "        if paragraph.string:\n",
    "            text = text + paragraph.text\n",
    "    \n",
    "    return text\n",
    "        "
   ]
  },
  {
   "cell_type": "code",
   "execution_count": null,
   "id": "2f9250c7",
   "metadata": {},
   "outputs": [],
   "source": []
  },
  {
   "cell_type": "code",
   "execution_count": null,
   "id": "415d672b",
   "metadata": {},
   "outputs": [],
   "source": []
  },
  {
   "cell_type": "code",
   "execution_count": null,
   "id": "d217d0c2",
   "metadata": {},
   "outputs": [],
   "source": []
  },
  {
   "cell_type": "code",
   "execution_count": null,
   "id": "67c2570d",
   "metadata": {},
   "outputs": [],
   "source": []
  }
 ],
 "metadata": {
  "kernelspec": {
   "display_name": "Python 3 (ipykernel)",
   "language": "python",
   "name": "python3"
  },
  "language_info": {
   "codemirror_mode": {
    "name": "ipython",
    "version": 3
   },
   "file_extension": ".py",
   "mimetype": "text/x-python",
   "name": "python",
   "nbconvert_exporter": "python",
   "pygments_lexer": "ipython3",
   "version": "3.11.5"
  }
 },
 "nbformat": 4,
 "nbformat_minor": 5
}
